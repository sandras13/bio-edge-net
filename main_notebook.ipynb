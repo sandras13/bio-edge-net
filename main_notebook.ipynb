{
  "cells": [
    {
      "cell_type": "code",
      "execution_count": null,
      "metadata": {
        "colab": {
          "base_uri": "https://localhost:8080/"
        },
        "id": "1VQMOv428DfA",
        "outputId": "cc84f288-27f7-4ef3-ba60-94a922ad3d3d"
      },
      "outputs": [],
      "source": [
        "from google.colab import drive\n",
        "drive.mount('/content/drive')"
      ]
    },
    {
      "cell_type": "code",
      "execution_count": 3,
      "metadata": {
        "id": "5bXIvsnVQm0v"
      },
      "outputs": [],
      "source": [
        "import sys\n",
        "sys.path.append('/content/drive/MyDrive/deep_learning_quantized')\n",
        "\n",
        "import pandas as pd\n",
        "import numpy as np\n",
        "import torch\n",
        "import torch.nn as nn\n",
        "import architectures\n",
        "import network_training\n",
        "import preprocessing"
      ]
    },
    {
      "cell_type": "code",
      "execution_count": 4,
      "metadata": {
        "id": "F0GDzAhFrvHV"
      },
      "outputs": [],
      "source": [
        "def read_data_from_csv(csv_file_name):\n",
        "      data = pd.read_csv(csv_file_name)\n",
        "      x_data = data.iloc[:, :-2].values\n",
        "      y_data = data.iloc[:, -2].values\n",
        "      subj = data.iloc[:, -1].values\n",
        "\n",
        "      return x_data, y_data, subj"
      ]
    },
    {
      "cell_type": "code",
      "execution_count": 5,
      "metadata": {
        "id": "eCyTR0urJoJw"
      },
      "outputs": [],
      "source": [
        "csv_file_name = '/content/drive/MyDrive/deep_learning_quantized/multimodal_data.csv'\n",
        "labels = ('low', 'medium', 'high')\n",
        "avg = True\n",
        "\n",
        "features, targets, subj_data = read_data_from_csv(csv_file_name)\n",
        "fs = 64"
      ]
    },
    {
      "cell_type": "code",
      "execution_count": null,
      "metadata": {
        "colab": {
          "base_uri": "https://localhost:8080/"
        },
        "id": "W0delxoDwp0D",
        "outputId": "9f00fbd5-d3d3-4eee-8ef4-48fdb86c2fdd"
      },
      "outputs": [],
      "source": [
        "# features = features[:, 0:4]\n",
        "features = features[:, 0].reshape(-1, 1)\n",
        "# features = features[:, 1:4]\n",
        "\n",
        "# features = features[:, 5].reshape(-1, 1)\n",
        "# features = features[:, 6:9]"
      ]
    },
    {
      "cell_type": "code",
      "execution_count": 7,
      "metadata": {
        "id": "wTv6Q3Ubawlw"
      },
      "outputs": [],
      "source": [
        "params = {\n",
        "    \"seed\" : 256,\n",
        "    \"learning_rate\" : 0.002,\n",
        "    \"weight_decay\" : 1e-6,\n",
        "    \"step_size\" : 3,\n",
        "    \"gamma\" : 0.85,\n",
        "    \"batch_size\" : 128,\n",
        "    \"epochs\" : 30,\n",
        "    \"num_resblocks\" : 3,\n",
        "    \"resblock_id\" : 0\n",
        "}\n",
        "\n",
        "params[\"window_size\"] = fs * 8\n",
        "params[\"overlap\"] = params[\"window_size\"] * 7//8"
      ]
    },
    {
      "cell_type": "code",
      "execution_count": null,
      "metadata": {
        "colab": {
          "base_uri": "https://localhost:8080/"
        },
        "id": "zzwYFHnv_J4I",
        "outputId": "57ebbfcf-49a1-4517-cae0-70d292f610a9"
      },
      "outputs": [],
      "source": [
        "scaled_data = preprocessing.scale_data(features, targets)\n",
        "\n",
        "sliding_X_data, sliding_y_data = preprocessing.apply_sliding_window(scaled_data, targets, subj_data, params[\"window_size\"], params[\"overlap\"], avg)\n",
        "\n",
        "X_data = sliding_X_data.astype(np.float32)\n",
        "y_data = sliding_y_data.astype(np.uint8)\n",
        "\n",
        "print(X_data.shape, y_data.shape)"
      ]
    },
    {
      "cell_type": "code",
      "execution_count": 9,
      "metadata": {
        "id": "ItuhNLcn_3VR"
      },
      "outputs": [],
      "source": [
        "params[\"num_channels\"] = X_data.shape[2]\n",
        "params[\"num_classes\"] = len(labels)"
      ]
    },
    {
      "cell_type": "code",
      "execution_count": 19,
      "metadata": {
        "id": "4T9pJNkoKaep"
      },
      "outputs": [],
      "source": [
        "from sklearn.model_selection import KFold\n",
        "import keras.utils\n",
        "import time\n",
        "\n",
        "total_accuracy = []\n",
        "total_f1_score = []\n",
        "total_precision = []\n",
        "total_recall = []\n",
        "total_non_quantized_time = []\n",
        "total_non_quantized_size = []\n",
        "\n",
        "total_accuracy_quant = []\n",
        "total_f1_score_quant = []\n",
        "total_precision_quant = []\n",
        "total_recall_quant = []\n",
        "total_quantized_time = []\n",
        "total_quantized_size = []\n",
        "\n",
        "def training_loop(X_data, y_data, params, crossvalid = False):\n",
        "  if crossvalid:\n",
        "    num_folds = 5\n",
        "    kf = KFold(n_splits=num_folds, shuffle=True, random_state = params[\"seed\"])\n",
        "    data_splits = [(X_data[train_ind], X_data[val_ind], y_data[train_ind], y_data[val_ind]) for train_ind, val_ind in kf.split(X_data)]\n",
        "  else:\n",
        "    num_folds = 1\n",
        "    X_train, X_val, y_train, y_val = network_training.split_data(X_data, y_data, train_size=0.8)\n",
        "    data_splits = [(X_train, X_val, y_train, y_val)]\n",
        "\n",
        "  for fold, (X_train_fold, X_val_fold, y_train_fold, y_val_fold) in enumerate(data_splits):\n",
        "      print(f\"Fold {fold+1}/{num_folds}\")\n",
        "\n",
        "      y_train_fold = keras.utils.to_categorical(y_train_fold, num_classes=3)\n",
        "      y_val_fold = keras.utils.to_categorical(y_val_fold, num_classes=3)\n",
        "\n",
        "      X_train_fold = np.expand_dims(X_train_fold, axis=-1)\n",
        "      X_val_fold = np.expand_dims(X_val_fold, axis=-1)\n",
        "\n",
        "      model, accuracy, f1_score, precision, recall, non_quantized_time = network_training.train_model(params, X_train_fold, y_train_fold, X_val_fold, y_val_fold)\n",
        "      if fold == 0: print(model.summary())\n",
        "\n",
        "      tflite_quant_model = network_training.get_quantized_model(model)\n",
        "      interpreter = network_training.get_tflite_interpreter(tflite_quant_model)\n",
        "      accuracy_quant, f1_score_quant, precision_quant, recall_quant, quantized_time = network_training.evaluate_quantized_metrics(interpreter, X_val_fold, y_val_fold)\n",
        "\n",
        "      non_quantized_model_size, quantized_model_size =  network_training.compare_model_sizes(tflite_quant_model, model)\n",
        "\n",
        "      print(f\"\"\"Non-quantized: acc - {accuracy}, f1 - {f1_score}, prec - {precision}, rec - {recall}\"\"\")\n",
        "      print(f\"\"\"Quantized: acc - {accuracy_quant}, f1 - {f1_score_quant}, prec - {precision_quant}, rec - {quantized_time}\"\"\")\n",
        "      print(f\"\"\"Non-quantized time: {non_quantized_time}; Quantized time: {quantized_time} \"\"\")\n",
        "      print(f\"\"\"Non-quantized size: {non_quantized_model_size}; Quantized size: {quantized_model_size} MB \"\"\")\n",
        "\n",
        "      total_accuracy.append(accuracy)\n",
        "      total_f1_score.append(f1_score)\n",
        "      total_precision.append(precision)\n",
        "      total_recall.append(recall)\n",
        "      total_non_quantized_time.append(non_quantized_time)\n",
        "      total_non_quantized_size.append(non_quantized_model_size)\n",
        "\n",
        "      total_accuracy_quant.append(accuracy_quant)\n",
        "      total_f1_score_quant.append(f1_score_quant)\n",
        "      total_precision_quant.append(precision_quant)\n",
        "      total_recall_quant.append(recall_quant)\n",
        "      total_quantized_time.append(quantized_time)\n",
        "      total_quantized_size.append(quantized_model_size)\n",
        "\n",
        "  mean_accuracies = np.mean(total_accuracy)\n",
        "  mean_f1_scores = np.mean(total_f1_score)\n",
        "  mean_precisions = np.mean(total_precision)\n",
        "  mean_recalls = np.mean(total_recall)\n",
        "  mean_times = np.mean(total_non_quantized_time)\n",
        "  mean_size = np.mean(total_non_quantized_size)\n",
        "\n",
        "  mean_accuracies_quant = np.mean(total_accuracy_quant)\n",
        "  mean_f1_scores_quant = np.mean(total_f1_score_quant)\n",
        "  mean_precisions_quant = np.mean(total_precision_quant)\n",
        "  mean_recalls_quant = np.mean(total_recall_quant)\n",
        "  mean_times_quant = np.mean(total_quantized_time)\n",
        "  mean_size_quant = np.mean(total_quantized_size)\n",
        "\n",
        "  print(f\"\"\"Non-quantized:  acc - {mean_accuracies*100:.2f} F1 - {mean_f1_scores*100:.2f}\n",
        "        prec - {mean_precisions*100:.2f} rec - {mean_recalls*100:.2f}\n",
        "        time - {mean_times:.2f} size - {mean_size:.2f}\"\"\")\n",
        "\n",
        "  print(f\"\"\"Quantized:  acc - {mean_accuracies_quant*100:.2f} F1 - {mean_f1_scores_quant*100:.2f}\n",
        "        prec - {mean_precisions_quant*100:.2f} rec - {mean_recalls_quant*100:.2f}\n",
        "        time - {mean_times_quant:.2f} size - {mean_size_quant}\"\"\")"
      ]
    },
    {
      "cell_type": "code",
      "execution_count": null,
      "metadata": {
        "colab": {
          "base_uri": "https://localhost:8080/"
        },
        "id": "saOEMS6Jh86h",
        "outputId": "b061dcbf-96d7-44eb-f33f-81eeb5ab3468"
      },
      "outputs": [],
      "source": [
        "training_loop(X_data, y_data, params, True)"
      ]
    }
  ],
  "metadata": {
    "colab": {
      "provenance": []
    },
    "kernelspec": {
      "display_name": "Python 3",
      "name": "python3"
    },
    "language_info": {
      "name": "python"
    }
  },
  "nbformat": 4,
  "nbformat_minor": 0
}
